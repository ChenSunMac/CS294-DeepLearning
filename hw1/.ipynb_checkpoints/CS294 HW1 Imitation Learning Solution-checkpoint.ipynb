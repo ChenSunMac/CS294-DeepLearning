{
 "cells": [
  {
   "cell_type": "markdown",
   "metadata": {},
   "source": [
    "## Dependencies:\n",
    "TensorFlow, MuJoCo, OpenAI Gym"
   ]
  },
  {
   "cell_type": "markdown",
   "metadata": {},
   "source": [
    "We can use the example code run_expert.py to generate the expert trajectory data. It load up an expert policy, run a specified number of roll-outs, and save out data. The expert policies are located in /experts. "
   ]
  },
  {
   "cell_type": "markdown",
   "metadata": {},
   "source": [
    "We can perform the following to run the expert policies and store the (observation, action) pairs in /expert_data."
   ]
  },
  {
   "cell_type": "code",
   "execution_count": 6,
   "metadata": {},
   "outputs": [
    {
     "name": "stdout",
     "output_type": "stream",
     "text": [
      "loading and building expert policy\n",
      "obs (1, 376) (1, 376)\n",
      "loaded and built\n",
      "\u001b[33mWARN: gym.spaces.Box autodetected dtype as <class 'numpy.float32'>. Please provide explicit dtype.\u001b[0m\n",
      "\u001b[33mWARN: gym.spaces.Box autodetected dtype as <class 'numpy.float32'>. Please provide explicit dtype.\u001b[0m\n",
      "iter 0\n",
      "Creating window glfw\n",
      "100/1000\n",
      "200/1000\n",
      "300/1000\n",
      "400/1000\n",
      "500/1000\n",
      "600/1000\n",
      "700/1000\n",
      "800/1000\n",
      "900/1000\n",
      "1000/1000\n",
      "iter 1\n",
      "100/1000\n",
      "200/1000\n",
      "300/1000\n",
      "400/1000\n",
      "500/1000\n",
      "600/1000\n",
      "700/1000\n",
      "800/1000\n",
      "900/1000\n",
      "1000/1000\n",
      "iter 2\n",
      "100/1000\n",
      "200/1000\n",
      "300/1000\n",
      "400/1000\n",
      "500/1000\n",
      "600/1000\n",
      "700/1000\n",
      "800/1000\n",
      "900/1000\n",
      "1000/1000\n",
      "iter 3\n",
      "100/1000\n",
      "200/1000\n",
      "300/1000\n",
      "400/1000\n",
      "500/1000\n",
      "600/1000\n",
      "700/1000\n",
      "800/1000\n",
      "900/1000\n",
      "1000/1000\n",
      "iter 4\n",
      "100/1000\n",
      "200/1000\n",
      "300/1000\n",
      "400/1000\n",
      "500/1000\n",
      "600/1000\n",
      "700/1000\n",
      "800/1000\n",
      "900/1000\n",
      "1000/1000\n",
      "iter 5\n",
      "100/1000\n",
      "200/1000\n",
      "300/1000\n",
      "400/1000\n",
      "500/1000\n",
      "600/1000\n",
      "700/1000\n",
      "800/1000\n",
      "900/1000\n",
      "1000/1000\n",
      "iter 6\n",
      "100/1000\n",
      "200/1000\n",
      "300/1000\n",
      "400/1000\n",
      "500/1000\n",
      "600/1000\n",
      "700/1000\n",
      "800/1000\n",
      "900/1000\n",
      "1000/1000\n",
      "iter 7\n",
      "100/1000\n",
      "200/1000\n",
      "300/1000\n",
      "400/1000\n",
      "500/1000\n",
      "600/1000\n",
      "700/1000\n",
      "800/1000\n",
      "900/1000\n",
      "1000/1000\n",
      "iter 8\n",
      "100/1000\n",
      "200/1000\n",
      "300/1000\n",
      "400/1000\n",
      "500/1000\n",
      "600/1000\n",
      "700/1000\n",
      "800/1000\n",
      "900/1000\n",
      "1000/1000\n",
      "iter 9\n",
      "100/1000\n",
      "200/1000\n",
      "300/1000\n",
      "400/1000\n",
      "500/1000\n",
      "600/1000\n",
      "700/1000\n",
      "800/1000\n",
      "900/1000\n",
      "1000/1000\n",
      "returns [10369.69012299228, 10390.546647926798, 10489.844178770196, 10374.28310358276, 10411.403282618905, 10466.043950109519, 10381.106928251178, 10369.462961782381, 10412.117869934222, 10439.75995090946]\n",
      "mean return 10410.42589968777\n",
      "std of return 40.20371801053428\n"
     ]
    },
    {
     "name": "stderr",
     "output_type": "stream",
     "text": [
      "2018-10-01 16:30:32.416910: I tensorflow/core/platform/cpu_feature_guard.cc:141] Your CPU supports instructions that this TensorFlow binary was not compiled to use: AVX2 FMA\n",
      "WARNING:tensorflow:From /Users/jojo/Desktop/CS294-DeepLearning/hw1/tf_util.py:91: all_variables (from tensorflow.python.ops.variables) is deprecated and will be removed after 2017-03-02.\n",
      "Instructions for updating:\n",
      "Please use tf.global_variables instead.\n",
      "WARNING:tensorflow:From /anaconda3/envs/CS294/lib/python3.5/site-packages/tensorflow/python/util/tf_should_use.py:118: initialize_variables (from tensorflow.python.ops.variables) is deprecated and will be removed after 2017-03-02.\n",
      "Instructions for updating:\n",
      "Use `tf.variables_initializer` instead.\n"
     ]
    }
   ],
   "source": [
    "%%bash\n",
    "# --render to render the video, --num_rollouts to specify the number of total trajectories tested\n",
    "python run_expert.py experts/Humanoid-v2.pkl Humanoid-v2 --render --num_rollouts 10\n",
    "\n",
    "# can try other models like: Ant-v2.pkl, HalfCheetah-v2.pkl, Hopper-v2.pkl ..."
   ]
  },
  {
   "cell_type": "markdown",
   "metadata": {},
   "source": [
    "We can find the specifications of these models in\n",
    "https://github.com/openai/gym/wiki/Humanoid-V1\n",
    "https://gym.openai.com/envs/Humanoid-v2/\n",
    "\n",
    "Take the humanoid for example, its observation is categorized in a 376 box and its action space is about 17. We can check that just by looking at the data:"
   ]
  },
  {
   "cell_type": "code",
   "execution_count": 8,
   "metadata": {},
   "outputs": [],
   "source": [
    "import pickle\n",
    "with open('expert_data/Humanoid-v2.pkl', 'rb') as f:\n",
    "    data = pickle.load(f)"
   ]
  },
  {
   "cell_type": "code",
   "execution_count": 25,
   "metadata": {},
   "outputs": [
    {
     "name": "stdout",
     "output_type": "stream",
     "text": [
      "The action data shape (10000, 1, 17)\n",
      "The observation data shape (10000, 376)\n"
     ]
    }
   ],
   "source": [
    "print(\"The action data shape\", data['actions'].shape)\n",
    "print(\"The observation data shape\", data['observations'].shape)"
   ]
  },
  {
   "cell_type": "markdown",
   "metadata": {},
   "source": [
    "### Implement Behabior Cloning\n"
   ]
  },
  {
   "cell_type": "code",
   "execution_count": 27,
   "metadata": {},
   "outputs": [
    {
     "name": "stderr",
     "output_type": "stream",
     "text": [
      "Using TensorFlow backend.\n",
      "Traceback (most recent call last):\n",
      "  File \"run_behaviorCloning.py\", line 20, in <module>\n",
      "    from keras.models import Sequential, load_model\n",
      "  File \"/anaconda3/envs/CS294/lib/python3.5/site-packages/keras/__init__.py\", line 3, in <module>\n",
      "    from . import utils\n",
      "  File \"/anaconda3/envs/CS294/lib/python3.5/site-packages/keras/utils/__init__.py\", line 26, in <module>\n",
      "    from .multi_gpu_utils import multi_gpu_model\n",
      "  File \"/anaconda3/envs/CS294/lib/python3.5/site-packages/keras/utils/multi_gpu_utils.py\", line 7, in <module>\n",
      "    from ..layers.merge import concatenate\n",
      "  File \"/anaconda3/envs/CS294/lib/python3.5/site-packages/keras/layers/__init__.py\", line 4, in <module>\n",
      "    from ..engine.base_layer import Layer\n",
      "  File \"/anaconda3/envs/CS294/lib/python3.5/site-packages/keras/engine/__init__.py\", line 7, in <module>\n",
      "    from .network import get_source_inputs\n",
      "  File \"/anaconda3/envs/CS294/lib/python3.5/site-packages/keras/engine/network.py\", line 9, in <module>\n",
      "    import yaml\n",
      "  File \"/anaconda3/envs/CS294/lib/python3.5/site-packages/yaml/__init__.py\", line 2, in <module>\n",
      "    from error import *\n",
      "ImportError: No module named 'error'\n"
     ]
    }
   ],
   "source": [
    "%%bash\n",
    "python run_behaviorCloning.py experts/Humanoid-v2.pkl Humanoid-v2 expert_data/Humanoid-v2.pkl --render --num_rollouts 20"
   ]
  },
  {
   "cell_type": "code",
   "execution_count": null,
   "metadata": {},
   "outputs": [],
   "source": []
  }
 ],
 "metadata": {
  "kernelspec": {
   "display_name": "Python 3",
   "language": "python",
   "name": "python3"
  },
  "language_info": {
   "codemirror_mode": {
    "name": "ipython",
    "version": 3
   },
   "file_extension": ".py",
   "mimetype": "text/x-python",
   "name": "python",
   "nbconvert_exporter": "python",
   "pygments_lexer": "ipython3",
   "version": "3.6.1"
  }
 },
 "nbformat": 4,
 "nbformat_minor": 2
}
